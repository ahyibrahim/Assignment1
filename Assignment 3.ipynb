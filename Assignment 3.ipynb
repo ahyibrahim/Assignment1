{
 "cells": [
  {
   "cell_type": "markdown",
   "metadata": {},
   "source": [
    "# Assignment 3"
   ]
  },
  {
   "cell_type": "markdown",
   "metadata": {},
   "source": [
    "### Write a function to count the number 4 in a given list."
   ]
  },
  {
   "cell_type": "code",
   "execution_count": 1,
   "metadata": {
    "collapsed": true
   },
   "outputs": [
    {
     "name": "stdout",
     "output_type": "stream",
     "text": [
      "5\n"
     ]
    }
   ],
   "source": [
    "fours_list = [1522, 3456, 6748, 9739, 9460, 1689, 4498]\n",
    "count = 0\n",
    "for number in fours_list:\n",
    "    digits = [int(digit) for digit in str(number)]\n",
    "    for digit in digits:\n",
    "        if digit == 4:\n",
    "            count += 1\n",
    "print(count)\n",
    "    "
   ]
  },
  {
   "cell_type": "markdown",
   "metadata": {},
   "source": [
    "### write a  function to check whether a number is divisible by another number."
   ]
  },
  {
   "cell_type": "code",
   "execution_count": 2,
   "metadata": {
    "collapsed": true
   },
   "outputs": [
    {
     "name": "stdout",
     "output_type": "stream",
     "text": [
      "Is 8 divisible by 2? True\n",
      "Is 7 divisible by 3? False\n"
     ]
    }
   ],
   "source": [
    "def is_divisible(x,y):\n",
    "    return x % y == 0\n",
    "\n",
    "print(f\"Is 8 divisible by 2? {is_divisible(8,2)}\\nIs 7 divisible by 3? {is_divisible(7,3)}\")"
   ]
  },
  {
   "cell_type": "markdown",
   "metadata": {},
   "source": [
    "### write a function to find the maximum and minimum numbers from a sequence of numbers."
   ]
  },
  {
   "cell_type": "code",
   "execution_count": 3,
   "metadata": {
    "collapsed": true
   },
   "outputs": [],
   "source": [
    "def minMax (numbers):\n",
    "    return [min(numbers), max(numbers)]"
   ]
  },
  {
   "cell_type": "code",
   "execution_count": 4,
   "metadata": {
    "collapsed": true
   },
   "outputs": [
    {
     "name": "stdout",
     "output_type": "stream",
     "text": [
      "Min: 1\n",
      "Max: 4\n"
     ]
    }
   ],
   "source": [
    "numbers = \"1 2 3 4\"\n",
    "# numbers = input(\"Please enter a sequence of numbers sparated by spaces: \")\n",
    "print(f\"Min: {minMax(numbers.split())[0]}\\nMax: {minMax(numbers.split())[1]}\") "
   ]
  },
  {
   "cell_type": "markdown",
   "metadata": {},
   "source": [
    "### Write a Python function to calculate the factorial of a number (a non-negative integer). The function accepts the number from the user"
   ]
  },
  {
   "cell_type": "code",
   "execution_count": 3,
   "metadata": {
    "collapsed": true
   },
   "outputs": [],
   "source": [
    "import math\n",
    "def get_factorial(a):\n",
    "    pass"
   ]
  },
  {
   "cell_type": "markdown",
   "metadata": {},
   "source": [
    "### Write a Python function to check whether a number is in a given range.\n",
    "\n",
    "### The range is from 3 to 11\n"
   ]
  },
  {
   "cell_type": "code",
   "execution_count": 5,
   "metadata": {
    "collapsed": true
   },
   "outputs": [],
   "source": [
    "def in_range(a):\n",
    "    return a in range(3,12)"
   ]
  },
  {
   "cell_type": "code",
   "execution_count": 8,
   "metadata": {},
   "outputs": [
    {
     "name": "stdout",
     "output_type": "stream",
     "text": [
      "True\n"
     ]
    }
   ],
   "source": [
    "print(in_range(11))"
   ]
  },
  {
   "cell_type": "markdown",
   "metadata": {},
   "source": [
    "### Write a  program to create the multiplication table (from 1 to 10) of a number."
   ]
  },
  {
   "cell_type": "code",
   "execution_count": 10,
   "metadata": {
    "collapsed": true
   },
   "outputs": [],
   "source": [
    "def get_mult_table(a):\n",
    "    table = list(range(1,11))\n",
    "    for ind, entry in enumerate(table):\n",
    "        table[ind] = entry * a\n",
    "    return table"
   ]
  },
  {
   "cell_type": "code",
   "execution_count": 11,
   "metadata": {},
   "outputs": [
    {
     "name": "stdout",
     "output_type": "stream",
     "text": [
      "[2, 4, 6, 8, 10, 12, 14, 16, 18, 20]\n"
     ]
    }
   ],
   "source": [
    "print(get_mult_table(2))"
   ]
  },
  {
   "cell_type": "markdown",
   "metadata": {},
   "source": [
    "#### LESSER OF TWO EVENS: Write a function that returns the lesser of two given numbers *if* both numbers are even, but returns the greater if one or both numbers are odd\n",
    "    lesser_of_two_evens(2,4) --> 2\n",
    "    lesser_of_two_evens(2,5) --> 5"
   ]
  },
  {
   "cell_type": "code",
   "execution_count": null,
   "metadata": {},
   "outputs": [],
   "source": [
    "def lesser_two_evens(a,b):\n",
    "    if a % 2 == 0 and b % 2 == 0:\n",
    "            return min(a,b)\n",
    "    return max(a,b)     "
   ]
  },
  {
   "cell_type": "markdown",
   "metadata": {},
   "source": [
    "#### ANIMAL CRACKERS: Write a function takes a two-word string and returns True if both words begin with same letter\n",
    "    animal_crackers('Levelheaded Llama') --> True\n",
    "    animal_crackers('Crazy Kangaroo') --> False"
   ]
  },
  {
   "cell_type": "code",
   "execution_count": 13,
   "metadata": {},
   "outputs": [],
   "source": [
    "def animal_crackers(word):\n",
    "    return word.split(\" \")[0][0] == word.split(\" \")[1][0]"
   ]
  },
  {
   "cell_type": "code",
   "execution_count": 14,
   "metadata": {},
   "outputs": [
    {
     "name": "stdout",
     "output_type": "stream",
     "text": [
      "animal_crackers('Levelheaded Llama') --> True\n",
      "animal_crackers('Crazy Kangaroo') --> False\n"
     ]
    }
   ],
   "source": [
    "print(f\"animal_crackers('Levelheaded Llama') --> {animal_crackers('Levelheaded Llama')}\\nanimal_crackers('Crazy Kangaroo') --> {animal_crackers('Crazy Kangaroo')}\")"
   ]
  },
  {
   "cell_type": "markdown",
   "metadata": {},
   "source": [
    "#### MAKES TWENTY: Given two integers, return True if the sum of the integers is 20 *or* if one of the integers is 20. If not, return False\n",
    "\n",
    "    makes_twenty(20,10) --> True\n",
    "    makes_twenty(12,8) --> True\n",
    "    makes_twenty(2,3) --> False"
   ]
  },
  {
   "cell_type": "code",
   "execution_count": 1,
   "metadata": {},
   "outputs": [],
   "source": [
    "def makes_twenty(a,b):\n",
    "    return a+b == 20 or a == 20 or b == 20"
   ]
  },
  {
   "cell_type": "code",
   "execution_count": 2,
   "metadata": {},
   "outputs": [
    {
     "name": "stdout",
     "output_type": "stream",
     "text": [
      "makes_twenty(20,10) --> True\n",
      "makes_twenty(12,8) --> True\n",
      "makes_twenty(2,3) --> False\n"
     ]
    }
   ],
   "source": [
    "print(f\"makes_twenty(20,10) --> {makes_twenty(20,10)}\\nmakes_twenty(12,8) --> {makes_twenty(12,8)}\\nmakes_twenty(2,3) --> {makes_twenty(2,3)}\")"
   ]
  },
  {
   "cell_type": "markdown",
   "metadata": {},
   "source": [
    "#### ALMOST THERE: Given an integer n, return True if n is within 10 of either 100 or 200\n",
    "\n",
    "    almost_there(90) --> True\n",
    "    almost_there(104) --> True\n",
    "    almost_there(150) --> False\n",
    "    almost_there(209) --> True\n",
    "    \n",
    "NOTE: `abs(num)` returns the absolute value of a number"
   ]
  },
  {
   "cell_type": "code",
   "execution_count": 15,
   "metadata": {},
   "outputs": [],
   "source": [
    "def almost_there(a):\n",
    "    return a in range(90,111) or a in range(190, 211)"
   ]
  },
  {
   "cell_type": "code",
   "execution_count": 16,
   "metadata": {},
   "outputs": [
    {
     "name": "stdout",
     "output_type": "stream",
     "text": [
      "almost_there(90) --> True\n",
      "almost_there(104) --> True\n",
      "almost_there(150) --> False\n",
      "almost_there(209) --> True\n"
     ]
    }
   ],
   "source": [
    "print(f\"almost_there(90) --> {almost_there(90)}\\nalmost_there(104) --> {almost_there(104)}\\nalmost_there(150) --> {almost_there(150)}\\nalmost_there(209) --> {almost_there(209)}\")"
   ]
  },
  {
   "cell_type": "markdown",
   "metadata": {},
   "source": [
    "#### BLACKJACK: Given three integers between 1 and 11, if their sum is less than or equal to 21, return their sum. If their sum exceeds 21 *and* there's an eleven, reduce the total sum by 10. Finally, if the sum  exceeds 21, return 'BUST'\n",
    "    blackjack(5,6,7) --> 18\n",
    "    blackjack(9,9,9) --> 'BUST'\n",
    "    blackjack(9,9,11) --> 19"
   ]
  },
  {
   "cell_type": "code",
   "execution_count": 21,
   "metadata": {},
   "outputs": [],
   "source": [
    "def my_sum(a,b,c):\n",
    "    return a + b + c\n",
    "\n",
    "def blackjack(a,b,c):\n",
    "    if my_sum(a,b,c) <= 21:\n",
    "        return my_sum(a,b,c)\n",
    "    if my_sum(a,b,c) > 21 and 11 in [a,b,c]:\n",
    "        return my_sum(a,b,c) - 10\n",
    "    return \"BUST\" \n",
    "    "
   ]
  },
  {
   "cell_type": "code",
   "execution_count": 22,
   "metadata": {},
   "outputs": [
    {
     "name": "stdout",
     "output_type": "stream",
     "text": [
      "blackjack(5,6,7) --> 18\n",
      "blackjack(9,9,9) --> BUST\n",
      "blackjack(9,9,11) --> 19\n"
     ]
    }
   ],
   "source": [
    "print(f\"blackjack(5,6,7) --> {blackjack(5,6,7)}\\nblackjack(9,9,9) --> {blackjack(9,9,9)}\\nblackjack(9,9,11) --> {blackjack(9,9,11)}\")"
   ]
  },
  {
   "cell_type": "code",
   "execution_count": null,
   "metadata": {},
   "outputs": [],
   "source": []
  }
 ],
 "metadata": {
  "kernelspec": {
   "display_name": "Python 3",
   "language": "python",
   "name": "python3"
  },
  "language_info": {
   "codemirror_mode": {
    "name": "ipython",
    "version": 3
   },
   "file_extension": ".py",
   "mimetype": "text/x-python",
   "name": "python",
   "nbconvert_exporter": "python",
   "pygments_lexer": "ipython3",
   "version": "3.10.2"
  }
 },
 "nbformat": 4,
 "nbformat_minor": 2
}
